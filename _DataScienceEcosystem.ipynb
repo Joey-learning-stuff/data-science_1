{
 "cells": [
  {
   "cell_type": "markdown",
   "id": "f91c1eb9-3572-416f-a2d8-4232b201e0df",
   "metadata": {},
   "source": [
    "# Data Science Tools and Ecosystem"
   ]
  },
  {
   "cell_type": "markdown",
   "id": "3980bd30-1fc7-464d-bcef-66437eb51928",
   "metadata": {},
   "source": [
    "# In this notebook, Data Science Tools and Ecosystem are summarized.\n"
   ]
  },
  {
   "cell_type": "markdown",
   "id": "4b9a316c-3ee2-4aaf-895c-54c8ae76528f",
   "metadata": {},
   "source": [
    "**Objectives:** \n",
    "- List popular languages for Data Science\n",
    "- List some commonly used libraries used by Data Scientists\n",
    "- examples of arithmetic expressions\n"
   ]
  },
  {
   "cell_type": "markdown",
   "id": "56e2e990-903a-40a5-80dd-0c82b06d01e0",
   "metadata": {},
   "source": [
    "# Some of the popular languages that Data Scientists use are:\n",
    "1. PYTHON\n",
    "2. R\n",
    "3. SQL\n",
    "4. JULIA\n",
    "5. JAVA\n",
    "\n"
   ]
  },
  {
   "cell_type": "markdown",
   "id": "e0c06622-19dc-49f3-902f-586004551a1d",
   "metadata": {},
   "source": [
    "# Some of the commonly used libraries used by Data Scientists include:\n",
    "1. NumPy.\r",
    "2. \n",
    "Matplotlib.3. \r\n",
    "Panda\n",
    "4. Machine learning..."
   ]
  },
  {
   "cell_type": "markdown",
   "id": "9f4b0e53-10bd-407e-a777-b717fdeb047f",
   "metadata": {},
   "source": [
    "# Creating a table\n",
    "|Data Science Tools|\n",
    "|------------------|\n",
    "|R-studio          |\n",
    "|Jupyter Notebook  |\n",
    "|Google colab      |"
   ]
  },
  {
   "cell_type": "markdown",
   "id": "4df42e37-5110-4508-85b2-6cf845dd9d62",
   "metadata": {},
   "source": [
    "### Below are a few examples of evaluating arithmetic expressions in Python\n",
    "11+4\n",
    "\n",
    "15*4\n",
    "\n",
    "31-23\n",
    "\n"
   ]
  },
  {
   "cell_type": "code",
   "execution_count": 1,
   "id": "2b4b731c-2b3c-4b34-8004-1b160c92a387",
   "metadata": {},
   "outputs": [
    {
     "data": {
      "text/plain": [
       "17"
      ]
     },
     "execution_count": 1,
     "metadata": {},
     "output_type": "execute_result"
    }
   ],
   "source": [
    "#This a simple arithmetic expression to mutiply then add integers\n",
    "(3*4)+5\n"
   ]
  },
  {
   "cell_type": "code",
   "execution_count": 2,
   "id": "23c91860-d027-4737-90f8-a95bc5f4ed12",
   "metadata": {},
   "outputs": [
    {
     "data": {
      "text/plain": [
       "3.3333333333333335"
      ]
     },
     "execution_count": 2,
     "metadata": {},
     "output_type": "execute_result"
    }
   ],
   "source": [
    "# This will convert 200 minutes to hours by diving by 60\n",
    "200/60"
   ]
  },
  {
   "cell_type": "markdown",
   "id": "70921f59-c22d-4f28-97d7-ed689de7c905",
   "metadata": {},
   "source": [
    "## Author\n",
    "  ADITYA DEY\n",
    "\n"
   ]
  },
  {
   "cell_type": "code",
   "execution_count": null,
   "id": "7b14bf90-ce1d-4cb2-ad0f-9340bffea67a",
   "metadata": {},
   "outputs": [],
   "source": []
  },
  {
   "cell_type": "code",
   "execution_count": null,
   "id": "9f8c75af-29ec-4af5-8e7e-fa41791eb77f",
   "metadata": {},
   "outputs": [],
   "source": []
  }
 ],
 "metadata": {
  "kernelspec": {
   "display_name": "Python 3 (ipykernel)",
   "language": "python",
   "name": "python3"
  },
  "language_info": {
   "codemirror_mode": {
    "name": "ipython",
    "version": 3
   },
   "file_extension": ".py",
   "mimetype": "text/x-python",
   "name": "python",
   "nbconvert_exporter": "python",
   "pygments_lexer": "ipython3",
   "version": "3.12.4"
  }
 },
 "nbformat": 4,
 "nbformat_minor": 5
}
